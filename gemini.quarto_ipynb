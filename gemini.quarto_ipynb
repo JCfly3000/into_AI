{
  "cells": [
    {
      "cell_type": "markdown",
      "metadata": {},
      "source": [
        "---\n",
        "title: \"Getting Started with the Gemini CLI\"\n",
        "\n",
        "execute:\n",
        "  warning: false\n",
        "  error: false\n",
        "  eval: false\n",
        "  \n",
        "format:\n",
        "  html:\n",
        "    toc: true\n",
        "    toc-location: right\n",
        "    code-fold: show\n",
        "    code-tools: true\n",
        "    number-sections: true\n",
        "    code-block-bg: true\n",
        "    code-block-border-left: \"#31BAE9\"\n",
        "---\n",
        "\n",
        "![](images/clipboard-4089562798.png)\n",
        "\n",
        "# Introduction to the Gemini CLI\n",
        "\n",
        "The Gemini CLI is a command-line interface that allows you to interact with Google's Gemini models directly from your terminal. It provides a convenient way to experiment with Gemini, test prompts, and build powerful shell scripts that leverage the capabilities of large language models.\n",
        "\n",
        "This guide will walk you through the process of installing and configuring the Gemini CLI.\n",
        "\n",
        "# Prerequisites: Node.js Installation\n",
        "\n",
        "The Gemini CLI is distributed as an npm package, so you need to have Node.js and npm installed on your system. The recommended way to install Node.js is by using the Node Version Manager (nvm)."
      ],
      "id": "92088d1a"
    },
    {
      "cell_type": "code",
      "metadata": {},
      "source": [
        "# Download and install nvm\n",
        "curl -o- https://raw.githubusercontent.com/nvm-sh/nvm/v0.39.3/install.sh | bash\n",
        "\n",
        "# Activate nvm for the current shell session\n",
        "source ~/.nvm/nvm.sh\n",
        "\n",
        "# Install the latest stable version of Node.js\n",
        "nvm install 20\n",
        "\n",
        "# Verify the installation\n",
        "node -v\n",
        "npm -v"
      ],
      "id": "a53554f7",
      "execution_count": null,
      "outputs": []
    },
    {
      "cell_type": "markdown",
      "metadata": {},
      "source": [
        "# Installing the Gemini CLI\n",
        "\n",
        "Once you have Node.js and npm ready, you can install the Gemini CLI globally on your system."
      ],
      "id": "120c0a6c"
    },
    {
      "cell_type": "code",
      "metadata": {},
      "source": [
        "# Install the Gemini CLI package\n",
        "npm install -g @google/gemini-cli"
      ],
      "id": "81dc8b3f",
      "execution_count": null,
      "outputs": []
    },
    {
      "cell_type": "markdown",
      "metadata": {},
      "source": [
        "## Upgrading the Gemini CLI\n",
        "\n",
        "To ensure you have the latest features and bug fixes, you can upgrade the package from time to time."
      ],
      "id": "9d80d963"
    },
    {
      "cell_type": "code",
      "metadata": {},
      "source": [
        "# Upgrade the Gemini CLI to the latest version\n",
        "npm upgrade -g @google/gemini-cli"
      ],
      "id": "806d80e8",
      "execution_count": null,
      "outputs": []
    },
    {
      "cell_type": "markdown",
      "metadata": {},
      "source": [
        "# Configuration\n",
        "\n",
        "To use the Gemini CLI, you need to authenticate with your Google account and configure your project.\n",
        "\n",
        "## Login with Your Google Account\n",
        "\n",
        "You can either log in with your Google Cloud account or use an API key.\n",
        "\n",
        "### Option 1: Login with Google Cloud Account"
      ],
      "id": "41ed7f0d"
    },
    {
      "cell_type": "code",
      "metadata": {},
      "source": [
        "# Set your Google Cloud project ID\n",
        "export GOOGLE_CLOUD_PROJECT=\"your-google-cloud-project-id\""
      ],
      "id": "39c829a8",
      "execution_count": null,
      "outputs": []
    },
    {
      "cell_type": "markdown",
      "metadata": {},
      "source": [
        "or save the GOOGLE_CLOUD_PROJECT into environment variable.So that do not need to re enter everytime\n",
        "\n",
        "#### check using zsh or bash"
      ],
      "id": "a3e7e634"
    },
    {
      "cell_type": "code",
      "metadata": {},
      "source": [
        "echo $SHELL"
      ],
      "id": "82c82fcc",
      "execution_count": null,
      "outputs": []
    },
    {
      "cell_type": "markdown",
      "metadata": {},
      "source": [
        "#### for zsh"
      ],
      "id": "a427554e"
    },
    {
      "cell_type": "code",
      "metadata": {},
      "source": [
        "echo 'export GOOGLE_CLOUD_PROJECT=\"your-google-cloud-project-id\"' >> ~/.zshrc\n",
        "\n",
        "source ~/.zshrc"
      ],
      "id": "07ba2521",
      "execution_count": null,
      "outputs": []
    },
    {
      "cell_type": "markdown",
      "metadata": {},
      "source": [
        "#### for bash"
      ],
      "id": "060914c6"
    },
    {
      "cell_type": "code",
      "metadata": {},
      "source": [
        "echo 'export GOOGLE_CLOUD_PROJECT=\"your-google-cloud-project-id\"' >> ~/.bashrc\n",
        "\n",
        "source ~/.bashrc"
      ],
      "id": "1a16dc8e",
      "execution_count": null,
      "outputs": []
    },
    {
      "cell_type": "markdown",
      "metadata": {},
      "source": [
        "#### check wheather added or not"
      ],
      "id": "98046deb"
    },
    {
      "cell_type": "code",
      "metadata": {},
      "source": [
        "echo $GOOGLE_CLOUD_PROJECT"
      ],
      "id": "c11251bb",
      "execution_count": null,
      "outputs": []
    },
    {
      "cell_type": "markdown",
      "metadata": {},
      "source": [
        "### Option 2: Login with API Key\n",
        "\n",
        "Alternatively, you can use an API key for authentication."
      ],
      "id": "fb230232"
    },
    {
      "cell_type": "code",
      "metadata": {},
      "source": [
        "# Set your Gemini API key as an environment variable\n",
        "export GEMINI_API_KEY=\"your-gemini-api-key\""
      ],
      "id": "30674af4",
      "execution_count": null,
      "outputs": []
    },
    {
      "cell_type": "markdown",
      "metadata": {},
      "source": [
        "## Set the Location\n",
        "\n",
        "You also need to specify the Google Cloud location where your resources will be managed."
      ],
      "id": "ccbdc6c2"
    },
    {
      "cell_type": "code",
      "metadata": {},
      "source": [
        "# Set the Google Cloud location\n",
        "export GOOGLE_CLOUD_LOCATION='us-central1'"
      ],
      "id": "29748d7a",
      "execution_count": null,
      "outputs": []
    },
    {
      "cell_type": "markdown",
      "metadata": {},
      "source": [
        "# Running the Gemini CLI\n",
        "\n",
        "Once everything is set up, you can run the Gemini CLI to start interacting with the models."
      ],
      "id": "3a9b9eaf"
    },
    {
      "cell_type": "code",
      "metadata": {},
      "source": [
        "# Run the Gemini CLI\n",
        "gemini"
      ],
      "id": "e043f66b",
      "execution_count": null,
      "outputs": []
    },
    {
      "cell_type": "markdown",
      "metadata": {},
      "source": [
        "# Conclusion\n",
        "\n",
        "The Gemini CLI is a powerful tool for developers and enthusiasts who want to explore the capabilities of Google's Gemini models from the command line. With its simple installation and configuration process, you can quickly start leveraging the power of generative AI in your daily workflows.\n",
        "\n",
        "# Reference\n",
        "\n",
        "-   [Gemini CLI on GitHub](https://github.com/google-gemini/gemini-cli)\n",
        "-   [Node.js Downloads](https://nodejs.org/en/download)"
      ],
      "id": "8cbee08e"
    }
  ],
  "metadata": {
    "kernelspec": {
      "name": "python3",
      "language": "python",
      "display_name": "Python 3 (ipykernel)",
      "path": "/Library/Frameworks/Python.framework/Versions/3.13/share/jupyter/kernels/python3"
    }
  },
  "nbformat": 4,
  "nbformat_minor": 5
}